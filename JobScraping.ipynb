{
 "cells": [
  {
   "cell_type": "code",
   "execution_count": 31,
   "id": "e8ed5592",
   "metadata": {},
   "outputs": [
    {
     "name": "stdout",
     "output_type": "stream",
     "text": [
      "Getting page, 0\n",
      "Getting page, 10\n",
      "Getting page, 20\n",
      "Getting page, 30\n"
     ]
    }
   ],
   "source": [
    "#import libraries\n",
    "import requests\n",
    "from bs4 import BeautifulSoup\n",
    "import pandas as pd\n",
    "import time\n",
    "\n",
    "#Extract function\n",
    "def extract(page):\n",
    "    headers = { 'User-Agent': 'Mozilla/5.0 (Windows NT 10.0; Win64; x64) AppleWebKit/537.36 (KHTML, like Gecko) Chrome/96.0.4664.45 Safari/537.36'}\n",
    "    url = f'https://in.indeed.com/jobs?q=Creative%20Technologist&l=Bangalore%2C%20Karnataka&start={page}&vjk=c96f098a92d262e1'\n",
    "    r = requests.get(url, headers)\n",
    "    soup = BeautifulSoup(r.content,'html.parser')\n",
    "    return soup\n",
    "\n",
    "#Transform function\n",
    "def transform(soup):\n",
    "    #Getting list of all job postings\n",
    "    divs = soup.find_all('div', class_ = 'job_seen_beacon')\n",
    "    for item in divs:\n",
    "        title = item.find('h2', class_ ='jobTitle').text.strip()\n",
    "        location = item.find('div', class_ = 'companyLocation').text.strip()\n",
    "        company = item.find('span', class_ ='companyName').text.strip()\n",
    "        date = item.find('span', class_ ='date').text.strip()\n",
    "        try:\n",
    "            salary = item.find('div', class_ ='salary-snippet').text.strip()\n",
    "        except:\n",
    "            salary = ''\n",
    "            \n",
    "        summary = item.find('div',{'class' : 'job-snippet'}).text.strip().replace('\\n','')\n",
    "       \n",
    "        #Getting full descriptions for each job post\n",
    "        joburl = \"http://indeed.com\" + item.h2.a.get('href')\n",
    "        job_desc_r = requests.get(joburl)\n",
    "        job_desc_data = job_desc_r.text\n",
    "        job_desc_soup = BeautifulSoup(job_desc_data, \"html.parser\")\n",
    "        job_desc_tag = job_desc_soup.find('div',{'id':'jobDescriptionText'})\n",
    "        job_description = job_desc_tag.text if job_desc_tag else \"N/A\"\n",
    "        \n",
    "        job = {\n",
    "            'title': title,\n",
    "            'company':company,\n",
    "            'date':date,\n",
    "            'location':location,\n",
    "            'salary': salary,\n",
    "            'summary': summary,\n",
    "            'description': job_description,\n",
    "        }\n",
    "        joblist.append(job)\n",
    "    return\n",
    "\n",
    "joblist =[]\n",
    "\n",
    "#Looping for different pages\n",
    "for i in range(0,31,10):\n",
    "    print(f'Getting page, {i}')\n",
    "    c = extract(i) \n",
    "    transform(c)"
   ]
  },
  {
   "cell_type": "code",
   "execution_count": 33,
   "id": "c7aebc5b",
   "metadata": {
    "scrolled": true
   },
   "outputs": [
    {
     "name": "stdout",
     "output_type": "stream",
     "text": [
      "                              title       company                        date  \\\n",
      "0          Office Manager (On-site)   Tenstorrent  EmployerActive 15 days ago   \n",
      "1       Process Technologist - SMPO         Shell          Posted30+ days ago   \n",
      "2  newContent Management Specialist  KnowledgeHut             Posted1 day ago   \n",
      "3           Software Technologist I       Philips           Posted12 days ago   \n",
      "4                             Blend        Diageo           Posted14 days ago   \n",
      "\n",
      "                                location salary  \\\n",
      "0                   Bengaluru, Karnataka          \n",
      "1                   Bengaluru, Karnataka          \n",
      "2       HSR Layout, Bengaluru, Karnataka          \n",
      "3  Hybrid remote in Bengaluru, Karnataka          \n",
      "4                   Bengaluru, Karnataka          \n",
      "\n",
      "                                             summary  \\\n",
      "0  Manage Tenstorrent's Covid-19 safety protocols...   \n",
      "1  Our solutions help our partners grow their bus...   \n",
      "2  The role will entail creation of website conte...   \n",
      "3  Be prepared to work in a fast-paced, team envi...   \n",
      "4  Gain some experience in directly coaching or m...   \n",
      "\n",
      "                                         description  \n",
      "0  \\nThe Tenstorrent team combines technologists ...  \n",
      "1  \\nThe Role\\n\\n\\nWhere you fit \\n\\nShell’s Proj...  \n",
      "2  \\n\\n\\n\\n\\nHSR Layout, Bengaluru, Karnataka, In...  \n",
      "3  \\nJob Title Software Technologist I\\n \\n Job D...  \n",
      "4  \\nJob Description : \\nThis role delivers techn...  \n"
     ]
    }
   ],
   "source": [
    "#Creating a dataframe and writing into CSV\n",
    "df = pd.DataFrame(joblist)\n",
    "print(df.head())\n",
    "df.to_csv('CreativeTechnologists.csv')"
   ]
  },
  {
   "cell_type": "code",
   "execution_count": null,
   "id": "fc1875ee",
   "metadata": {},
   "outputs": [],
   "source": []
  }
 ],
 "metadata": {
  "kernelspec": {
   "display_name": "Python 3",
   "language": "python",
   "name": "python3"
  },
  "language_info": {
   "codemirror_mode": {
    "name": "ipython",
    "version": 3
   },
   "file_extension": ".py",
   "mimetype": "text/x-python",
   "name": "python",
   "nbconvert_exporter": "python",
   "pygments_lexer": "ipython3",
   "version": "3.7.4"
  }
 },
 "nbformat": 4,
 "nbformat_minor": 5
}
