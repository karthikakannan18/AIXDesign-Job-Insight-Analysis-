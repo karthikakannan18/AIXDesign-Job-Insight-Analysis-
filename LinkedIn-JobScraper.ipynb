{
 "cells": [
  {
   "cell_type": "code",
   "execution_count": 1,
   "id": "e61d4fc2",
   "metadata": {},
   "outputs": [],
   "source": [
    "import pandas as pd\n",
    "import re\n",
    "from selenium import webdriver\n",
    "from selenium.webdriver.common.keys import Keys"
   ]
  },
  {
   "cell_type": "code",
   "execution_count": 2,
   "id": "d7f6806e",
   "metadata": {},
   "outputs": [],
   "source": [
    "browser = webdriver.Chrome(\"chromedriver.exe\")\n",
    "browser.get(\"https://www.linkedin.com\")"
   ]
  },
  {
   "cell_type": "code",
   "execution_count": 3,
   "id": "63be37d7",
   "metadata": {},
   "outputs": [],
   "source": [
    "username = browser.find_element_by_id(\"session_key\")\n",
    "username.send_keys(\"xxx@gmail.com\")#Enter your username\n",
    "password = browser.find_element_by_id(\"session_password\")\n",
    "password.send_keys(\"xxxxx\")#Enter your password"
   ]
  },
  {
   "cell_type": "code",
   "execution_count": 5,
   "id": "5036d160",
   "metadata": {},
   "outputs": [],
   "source": [
    "login_button = browser.find_element_by_class_name(\"sign-in-form__submit-button\")\n",
    "login_button.click()"
   ]
  },
  {
   "cell_type": "code",
   "execution_count": 8,
   "id": "66f456c1",
   "metadata": {},
   "outputs": [],
   "source": [
    "browser.get(\"https://www.linkedin.com/jobs/search/?geoId=90000084&keywords=product%20designer&location=San%20Francisco%20Bay%20Area\")"
   ]
  },
  {
   "cell_type": "code",
   "execution_count": 11,
   "id": "bbb2c702",
   "metadata": {},
   "outputs": [
    {
     "name": "stdout",
     "output_type": "stream",
     "text": [
      "['Product Designer, WhatsApp', 'Product Designer', 'product designer (remote US) 🚀', 'Product Designer', 'Product Designer - 2022 New Graduates (Fully Remote)', 'Product Designer (Remote Positions Available)', 'Product Designer - Eats for Business']\n",
      "\n",
      "7\n"
     ]
    }
   ],
   "source": [
    "job = browser.find_elements_by_class_name(\"disabled.ember-view.job-card-container__link.job-card-list__title\")\n",
    "c = []\n",
    "for i in job:\n",
    "    c.append(i.text)\n",
    "print(c)\n",
    "print()\n",
    "print(len(c))"
   ]
  },
  {
   "cell_type": "code",
   "execution_count": 12,
   "id": "50f9bfb3",
   "metadata": {},
   "outputs": [
    {
     "name": "stdout",
     "output_type": "stream",
     "text": [
      "['Product Designer, WhatsApp', 'Product Designer', 'product designer (remote US) 🚀', 'Product Designer', 'Product Designer - 2022 New Graduates (Fully Remote)', 'Product Designer (Remote Positions Available)', 'Product Designer - Eats for Business']\n"
     ]
    }
   ],
   "source": [
    "job_title = []\n",
    "for i in range(len(c)):\n",
    "    job_title.append(c[i].strip(\"Job Title\\n\"))\n",
    "    job_title\n",
    "    \n",
    "print(job_title)"
   ]
  },
  {
   "cell_type": "code",
   "execution_count": 13,
   "id": "b4f047a3",
   "metadata": {},
   "outputs": [
    {
     "name": "stdout",
     "output_type": "stream",
     "text": [
      "['WhatsApp', 'Udemy', 'Palantir Technologies', 'Mynd', 'HireTalent - Diversity Staffing & Recruiting Firm', 'Dutchie', 'WhatsApp', 'Uber', 'Netflix', 'GitLab']\n"
     ]
    }
   ],
   "source": [
    "job2 = browser.find_elements_by_class_name(\"job-card-container__company-name\")\n",
    "comp_name = []\n",
    "for i in job2:\n",
    "    comp_name.append(i.text)\n",
    "print(comp_name)\n",
    "print()\n",
    "print(len(comp_name))"
   ]
  },
  {
   "cell_type": "code",
   "execution_count": 14,
   "id": "5e0a260e",
   "metadata": {},
   "outputs": [
    {
     "name": "stdout",
     "output_type": "stream",
     "text": [
      "['San Francisco, CA', 'United States', 'Remote', 'Palo Alto, CA', 'United States', 'Remote', 'San Francisco, CA', 'On-site', 'United States', 'Remote', 'Medical, Vision, Dental, 401(k)', 'San Francisco, CA']\n",
      "\n",
      "12\n"
     ]
    }
   ],
   "source": [
    "job3 = browser.find_elements_by_class_name(\"job-card-container__metadata-item\")\n",
    "loc_name = []\n",
    "for i in job3:\n",
    "    loc_name.append(i.text)\n",
    "print(loc_name)\n",
    "print()\n",
    "print(len(loc_name))"
   ]
  },
  {
   "cell_type": "code",
   "execution_count": 28,
   "id": "f0e0a58a",
   "metadata": {},
   "outputs": [],
   "source": [
    "col = [\"Company Name\", \"Job Title\", \"Location\"]\n",
    "df = pd.DataFrame({\"Company Name\": comp_name[slice(7)], \"Job Title\":job_title[slice(7)], \"Location\":loc_name[slice(7)]})"
   ]
  },
  {
   "cell_type": "code",
   "execution_count": 23,
   "id": "61aa69fc",
   "metadata": {},
   "outputs": [
    {
     "data": {
      "text/plain": [
       "10"
      ]
     },
     "execution_count": 23,
     "metadata": {},
     "output_type": "execute_result"
    }
   ],
   "source": [
    "len(comp_name)"
   ]
  },
  {
   "cell_type": "code",
   "execution_count": 21,
   "id": "6817448c",
   "metadata": {},
   "outputs": [
    {
     "data": {
      "text/plain": [
       "7"
      ]
     },
     "execution_count": 21,
     "metadata": {},
     "output_type": "execute_result"
    }
   ],
   "source": [
    "len(job_title)"
   ]
  },
  {
   "cell_type": "code",
   "execution_count": 22,
   "id": "0ff39ddd",
   "metadata": {},
   "outputs": [
    {
     "data": {
      "text/plain": [
       "12"
      ]
     },
     "execution_count": 22,
     "metadata": {},
     "output_type": "execute_result"
    }
   ],
   "source": [
    "len(loc_name)"
   ]
  },
  {
   "cell_type": "code",
   "execution_count": 31,
   "id": "414fa381",
   "metadata": {},
   "outputs": [
    {
     "data": {
      "text/html": [
       "<div>\n",
       "<style scoped>\n",
       "    .dataframe tbody tr th:only-of-type {\n",
       "        vertical-align: middle;\n",
       "    }\n",
       "\n",
       "    .dataframe tbody tr th {\n",
       "        vertical-align: top;\n",
       "    }\n",
       "\n",
       "    .dataframe thead th {\n",
       "        text-align: right;\n",
       "    }\n",
       "</style>\n",
       "<table border=\"1\" class=\"dataframe\">\n",
       "  <thead>\n",
       "    <tr style=\"text-align: right;\">\n",
       "      <th></th>\n",
       "      <th>Company Name</th>\n",
       "      <th>Job Title</th>\n",
       "      <th>Location</th>\n",
       "    </tr>\n",
       "  </thead>\n",
       "  <tbody>\n",
       "    <tr>\n",
       "      <th>2</th>\n",
       "      <td>Palantir Technologies</td>\n",
       "      <td>product designer (remote US) 🚀</td>\n",
       "      <td>Remote</td>\n",
       "    </tr>\n",
       "    <tr>\n",
       "      <th>3</th>\n",
       "      <td>Mynd</td>\n",
       "      <td>Product Designer</td>\n",
       "      <td>Palo Alto, CA</td>\n",
       "    </tr>\n",
       "    <tr>\n",
       "      <th>4</th>\n",
       "      <td>HireTalent - Diversity Staffing &amp; Recruiting Firm</td>\n",
       "      <td>Product Designer - 2022 New Graduates (Fully R...</td>\n",
       "      <td>United States</td>\n",
       "    </tr>\n",
       "    <tr>\n",
       "      <th>5</th>\n",
       "      <td>Dutchie</td>\n",
       "      <td>Product Designer (Remote Positions Available)</td>\n",
       "      <td>Remote</td>\n",
       "    </tr>\n",
       "    <tr>\n",
       "      <th>6</th>\n",
       "      <td>WhatsApp</td>\n",
       "      <td>Product Designer - Eats for Business</td>\n",
       "      <td>San Francisco, CA</td>\n",
       "    </tr>\n",
       "  </tbody>\n",
       "</table>\n",
       "</div>"
      ],
      "text/plain": [
       "                                        Company Name  \\\n",
       "2                              Palantir Technologies   \n",
       "3                                               Mynd   \n",
       "4  HireTalent - Diversity Staffing & Recruiting Firm   \n",
       "5                                            Dutchie   \n",
       "6                                           WhatsApp   \n",
       "\n",
       "                                           Job Title           Location  \n",
       "2                     product designer (remote US) 🚀             Remote  \n",
       "3                                   Product Designer      Palo Alto, CA  \n",
       "4  Product Designer - 2022 New Graduates (Fully R...      United States  \n",
       "5      Product Designer (Remote Positions Available)             Remote  \n",
       "6               Product Designer - Eats for Business  San Francisco, CA  "
      ]
     },
     "execution_count": 31,
     "metadata": {},
     "output_type": "execute_result"
    }
   ],
   "source": [
    "df.tail()"
   ]
  },
  {
   "cell_type": "code",
   "execution_count": null,
   "id": "9cab8adf",
   "metadata": {},
   "outputs": [],
   "source": []
  }
 ],
 "metadata": {
  "kernelspec": {
   "display_name": "Python 3",
   "language": "python",
   "name": "python3"
  },
  "language_info": {
   "codemirror_mode": {
    "name": "ipython",
    "version": 3
   },
   "file_extension": ".py",
   "mimetype": "text/x-python",
   "name": "python",
   "nbconvert_exporter": "python",
   "pygments_lexer": "ipython3",
   "version": "3.7.4"
  }
 },
 "nbformat": 4,
 "nbformat_minor": 5
}
